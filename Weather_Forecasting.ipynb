{
  "nbformat": 4,
  "nbformat_minor": 0,
  "metadata": {
    "colab": {
      "provenance": [],
      "include_colab_link": true
    },
    "kernelspec": {
      "name": "python3",
      "display_name": "Python 3"
    },
    "language_info": {
      "name": "python"
    }
  },
  "cells": [
    {
      "cell_type": "markdown",
      "metadata": {
        "id": "view-in-github",
        "colab_type": "text"
      },
      "source": [
        "<a href=\"https://colab.research.google.com/github/nilansgit/Weather_Forecast/blob/main/Weather_Forecasting.ipynb\" target=\"_parent\"><img src=\"https://colab.research.google.com/assets/colab-badge.svg\" alt=\"Open In Colab\"/></a>"
      ]
    },
    {
      "cell_type": "code",
      "source": [
        "#Installing required libraries\n",
        "!pip install xarray pandas netCDF4"
      ],
      "metadata": {
        "colab": {
          "base_uri": "https://localhost:8080/"
        },
        "id": "8mBBfCyzXe3k",
        "outputId": "75d90483-17bc-4c60-fb27-7a22577d35c8",
        "collapsed": true
      },
      "execution_count": null,
      "outputs": [
        {
          "output_type": "stream",
          "name": "stdout",
          "text": [
            "Requirement already satisfied: xarray in /usr/local/lib/python3.11/dist-packages (2025.1.1)\n",
            "Requirement already satisfied: pandas in /usr/local/lib/python3.11/dist-packages (2.2.2)\n",
            "Requirement already satisfied: netCDF4 in /usr/local/lib/python3.11/dist-packages (1.7.2)\n",
            "Requirement already satisfied: numpy>=1.24 in /usr/local/lib/python3.11/dist-packages (from xarray) (1.26.4)\n",
            "Requirement already satisfied: packaging>=23.2 in /usr/local/lib/python3.11/dist-packages (from xarray) (24.2)\n",
            "Requirement already satisfied: python-dateutil>=2.8.2 in /usr/local/lib/python3.11/dist-packages (from pandas) (2.8.2)\n",
            "Requirement already satisfied: pytz>=2020.1 in /usr/local/lib/python3.11/dist-packages (from pandas) (2024.2)\n",
            "Requirement already satisfied: tzdata>=2022.7 in /usr/local/lib/python3.11/dist-packages (from pandas) (2025.1)\n",
            "Requirement already satisfied: cftime in /usr/local/lib/python3.11/dist-packages (from netCDF4) (1.6.4.post1)\n",
            "Requirement already satisfied: certifi in /usr/local/lib/python3.11/dist-packages (from netCDF4) (2024.12.14)\n",
            "Requirement already satisfied: six>=1.5 in /usr/local/lib/python3.11/dist-packages (from python-dateutil>=2.8.2->pandas) (1.17.0)\n"
          ]
        }
      ]
    },
    {
      "cell_type": "markdown",
      "source": [
        "To Be Run first"
      ],
      "metadata": {
        "id": "N7d00BBODODt"
      }
    },
    {
      "cell_type": "code",
      "source": [
        "!git clone https://github.com/nilansgit/Weather_Forecast.git"
      ],
      "metadata": {
        "colab": {
          "base_uri": "https://localhost:8080/"
        },
        "id": "Br79ZFaap3PA",
        "outputId": "8276ccbc-4203-45d7-f1bd-a3454c7130f2"
      },
      "execution_count": null,
      "outputs": [
        {
          "output_type": "stream",
          "name": "stdout",
          "text": [
            "fatal: destination path 'Weather_Forecast' already exists and is not an empty directory.\n"
          ]
        }
      ]
    },
    {
      "cell_type": "markdown",
      "source": [
        "Extracting NC Files"
      ],
      "metadata": {
        "id": "H6E-1O-5QAbF"
      }
    },
    {
      "cell_type": "code",
      "source": [
        "! git clone https://github.com/nilansgit/Weather_Forecast.git\n"
      ],
      "metadata": {
        "colab": {
          "base_uri": "https://localhost:8080/"
        },
        "id": "lTCfCPioBrHy",
        "outputId": "6a2a63f6-7536-4ca8-c746-d0452cf6ce31"
      },
      "execution_count": null,
      "outputs": [
        {
          "output_type": "stream",
          "name": "stdout",
          "text": [
            "Cloning into 'Weather_Forecast'...\n",
            "remote: Enumerating objects: 23, done.\u001b[K\n",
            "remote: Counting objects: 100% (23/23), done.\u001b[K\n",
            "remote: Compressing objects: 100% (13/13), done.\u001b[K\n",
            "remote: Total 23 (delta 10), reused 23 (delta 10), pack-reused 0 (from 0)\u001b[K\n",
            "Receiving objects: 100% (23/23), 1.25 MiB | 19.10 MiB/s, done.\n",
            "Resolving deltas: 100% (10/10), done.\n"
          ]
        }
      ]
    },
    {
      "cell_type": "code",
      "source": [
        "import zipfile\n",
        "import os\n",
        "\n",
        "zip_path = \"/content/Weather_Forecast/Zips/5c8cb6ae76d325aa60f724ffead3e562.zip\"\n",
        "extract_path = \"/content/Weather_Forecast/Nc_files/dataset2\"\n",
        "\n",
        "# Extracting NC files\n",
        "\n",
        "with zipfile.ZipFile(zip_path, 'r') as zip_ref:\n",
        "    zip_ref.extractall(extract_path)\n",
        "\n",
        "print(\"Extraction of NC Files completed.\")\n"
      ],
      "metadata": {
        "colab": {
          "base_uri": "https://localhost:8080/"
        },
        "id": "qq7yFdgTXnAL",
        "outputId": "746b5fe0-4070-4103-d6d8-7d2a2b24b60b",
        "collapsed": true
      },
      "execution_count": null,
      "outputs": [
        {
          "output_type": "stream",
          "name": "stdout",
          "text": [
            "Extraction of NC Files completed.\n"
          ]
        }
      ]
    },
    {
      "cell_type": "markdown",
      "source": [
        "Converting to CSV files"
      ],
      "metadata": {
        "id": "4rhf6iOCP2_C"
      }
    },
    {
      "cell_type": "code",
      "source": [
        "import os\n",
        "import xarray as xr\n",
        "import pandas as pd\n",
        "\n",
        "\n",
        "# Base paths for NC files and CSV files\n",
        "nc_base_path = \"/content/Weather_Forecast/Nc_files/dataset2\"\n",
        "csv_base_path= \"/content/Weather_Forecast/Csv_files/dataset2\"\n",
        "\n",
        "# storing nc files in list format\n",
        "nc_files = [f for f in os.listdir(nc_base_path) if f.endswith(\".nc\")]\n",
        "\n",
        "for nc_file in nc_files:\n",
        "    nc_path = os.path.join(nc_base_path, nc_file)\n",
        "\n",
        "    # Open .nc file\n",
        "    dataset = xr.open_dataset(nc_path)\n",
        "\n",
        "    # Convert to Pandas DataFrame\n",
        "    df = dataset.to_dataframe().reset_index()\n",
        "\n",
        "    # Save as CSV\n",
        "    csv_file = os.path.join(csv_base_path, nc_file.replace(\".nc\", \".csv\"))\n",
        "    df.to_csv(csv_file, index=False)\n",
        "\n",
        "    print(f\"Converted {nc_file} to CSV.\")\n",
        "\n",
        "print(\"All .nc files converted successfully to .csv file.\")\n"
      ],
      "metadata": {
        "colab": {
          "base_uri": "https://localhost:8080/"
        },
        "id": "NpZJojFZY_Vg",
        "outputId": "d0532f09-fe96-4962-ac00-f53baf0ea555",
        "collapsed": true
      },
      "execution_count": null,
      "outputs": [
        {
          "output_type": "stream",
          "name": "stdout",
          "text": [
            "Converted data_stream-oper_stepType-instant.nc to CSV.\n",
            "Converted data_stream-oper_stepType-accum.nc to CSV.\n",
            "Converted data_stream-oper_stepType-avg.nc to CSV.\n",
            "All .nc files converted successfully to .csv file.\n"
          ]
        }
      ]
    }
  ]
}